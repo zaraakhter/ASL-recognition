{
 "cells": [
  {
   "cell_type": "code",
   "execution_count": 3,
   "metadata": {
    "scrolled": true
   },
   "outputs": [],
   "source": [
    "import cv2\n",
    "import numpy as np\n",
    "from keras.models import load_model\n",
    "from skimage.transform import resize, pyramid_reduce\n",
    "import PIL\n",
    "from PIL import Image\n",
    "\n",
    "model = load_model('CNNmodel.h5')\n",
    "\n",
    "\n",
    "def prediction(pred):\n",
    "    #return(chr(pred+ 65))\n",
    "    return(chr(pred+ 65))\n",
    "\n",
    "\n",
    "def keras_predict(model, image):\n",
    "    data = np.asarray(image)\n",
    "    \n",
    "    pred_probab = model.predict(data)[0]\n",
    "    pred_class = list(pred_probab).index(max(pred_probab))\n",
    "    return max(pred_probab), pred_class\n",
    "\n",
    "def keras_process_image(img):\n",
    "    \n",
    "    image_x = 28\n",
    "    image_y = 28\n",
    "    img = cv2.resize(img, (1,28,28), interpolation = cv2.INTER_AREA)\n",
    "  \n",
    "    return img\n",
    " \n",
    "\n",
    "def crop_image(image, x, y, width, height):\n",
    "    return image[y:y + height, x:x + width]\n",
    "\n"
   ]
  },
  {
   "cell_type": "code",
   "execution_count": 4,
   "metadata": {
    "scrolled": true
   },
   "outputs": [],
   "source": [
    "\n",
    "l = []\n",
    "cap = cv2.VideoCapture(0)\n",
    "while True:\n",
    "        \n",
    "        #ret, frame = cap.read()\n",
    "        #cam_capture = cv2.VideoCapture(0)\n",
    "        _, image_frame = cap.read()  \n",
    "    # Select ROI\n",
    "    \n",
    "        im2 = crop_image(image_frame, 50,200,250,400)\n",
    "        image_grayscale = cv2.cvtColor(im2, cv2.COLOR_BGR2GRAY)\n",
    "    \n",
    "        image_grayscale_blurred = cv2.GaussianBlur(image_grayscale, (15,15), 0)\n",
    "        im3 = cv2.resize(image_grayscale_blurred, (28,28), interpolation = cv2.INTER_AREA)\n",
    "\n",
    "\n",
    "    \n",
    "        im4 = np.resize(im3, (28, 28, 1))\n",
    "        im5 = np.expand_dims(im4, axis=0)\n",
    "    \n",
    "\n",
    "        pred_probab, pred_class = keras_predict(model, im5)\n",
    "    \n",
    "        curr = prediction(pred_class)\n",
    "\n",
    "        \n",
    "        cv2.putText(image_frame, curr, (250, 150), cv2.FONT_HERSHEY_TRIPLEX, 2.0, (255,0, 0), lineType=cv2.LINE_AA)\n",
    "            \n",
    "            \n",
    "    \n",
    " \n",
    "    # Display cropped image\n",
    "        cv2.rectangle(image_frame, (50, 200), (250,400), (255, 255, 0), 3)\n",
    "        cv2.imshow(\"frame\",image_frame)\n",
    "\n",
    "        \n",
    " \n",
    "        cv2.imshow(\"Image3\",image_grayscale_blurred)\n",
    "\n",
    "\n",
    "        if cv2.waitKey(25) & 0xFF == ord('q'):\n",
    "                cv2.destroyAllWindows()\n",
    "                break\n",
    "\n",
    "cap.release()\n",
    "cv2.destroyAllWindows()"
   ]
  },
  {
   "cell_type": "code",
   "execution_count": null,
   "metadata": {},
   "outputs": [],
   "source": []
  },
  {
   "cell_type": "code",
   "execution_count": null,
   "metadata": {},
   "outputs": [],
   "source": []
  }
 ],
 "metadata": {
  "kernelspec": {
   "display_name": "Python 3",
   "language": "python",
   "name": "python3"
  },
  "language_info": {
   "codemirror_mode": {
    "name": "ipython",
    "version": 3
   },
   "file_extension": ".py",
   "mimetype": "text/x-python",
   "name": "python",
   "nbconvert_exporter": "python",
   "pygments_lexer": "ipython3",
   "version": "3.7.3"
  }
 },
 "nbformat": 4,
 "nbformat_minor": 4
}
