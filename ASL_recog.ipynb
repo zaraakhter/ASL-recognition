{
 "cells": [
  {
   "cell_type": "code",
   "execution_count": 9,
   "metadata": {
    "scrolled": true
   },
   "outputs": [],
   "source": [
    "import cv2\n",
    "import numpy as np\n",
    "from keras.models import load_model\n",
    "from skimage.transform import resize\n",
    "\n",
    "model = load_model('CNNmodel.h5')\n",
    "\n",
    "def prediction(pred):\n",
    "    \n",
    "    return(chr(pred + 65))\n",
    "\n",
    "def model_pred(model, image):\n",
    "    \n",
    "    data = np.asarray(image)\n",
    "    pred_proba = model.predict(data)[0]\n",
    "    pred = list(pred_proba).index(max(pred_proba))\n",
    "    \n",
    "    return max(pred_proba), pred\n",
    "\n",
    "def crop_image(image, x, y, width, height):\n",
    "    \n",
    "    return image[y:y + height, x:x + width]\n",
    "\n"
   ]
  },
  {
   "cell_type": "code",
   "execution_count": 12,
   "metadata": {
    "scrolled": true
   },
   "outputs": [],
   "source": [
    "cap = cv2.VideoCapture(0)\n",
    "while True:\n",
    "\n",
    "        ret, frame = cap.read()  \n",
    "    \n",
    "        cropped_img = crop_image(frame, 50,200,250,400)\n",
    "        grayscale = cv2.cvtColor(cropped_img, cv2.COLOR_BGR2GRAY)\n",
    "    \n",
    "        blurred_grayscale = cv2.GaussianBlur(grayscale, (15,15), 0)\n",
    "        resized_bgray = cv2.resize(blurred_grayscale, (28,28), interpolation = cv2.INTER_AREA)\n",
    "\n",
    "        fin_resize = np.resize(resized_bgray, (28, 28, 1))\n",
    "        fin_img = np.expand_dims(fin_resize, axis=0)\n",
    "\n",
    "        pred_proba, pred = model_pred(model, fin_img)\n",
    "\n",
    "        symbol = prediction(pred)\n",
    "\n",
    "        cv2.putText(cropped_img, symbol, (250, 150), cv2.FONT_HERSHEY_TRIPLEX, 2.0, (255,0, 0), lineType=cv2.LINE_AA)\n",
    "            \n",
    "        cv2.rectangle(frame, (50, 200), (250,400), (255, 255, 0), 3)\n",
    "        cv2.imshow(\"Video\",frame)\n",
    "        cv2.imshow(\"Grayscale\",blurred_grayscale)\n",
    "\n",
    "\n",
    "        if cv2.waitKey(25) & 0xFF == ord('q'):\n",
    "                cv2.destroyAllWindows()\n",
    "                break\n",
    "\n",
    "cap.release()\n",
    "cv2.destroyAllWindows()"
   ]
  }
 ],
 "metadata": {
  "kernelspec": {
   "display_name": "Python 3",
   "language": "python",
   "name": "python3"
  },
  "language_info": {
   "codemirror_mode": {
    "name": "ipython",
    "version": 3
   },
   "file_extension": ".py",
   "mimetype": "text/x-python",
   "name": "python",
   "nbconvert_exporter": "python",
   "pygments_lexer": "ipython3",
   "version": "3.7.3"
  }
 },
 "nbformat": 4,
 "nbformat_minor": 4
}
